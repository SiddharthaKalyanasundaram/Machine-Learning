{
 "cells": [
  {
   "cell_type": "code",
   "execution_count": 118,
   "metadata": {},
   "outputs": [],
   "source": [
    "training_data=[\n",
    "    ['Green', 3, 'Mango'],\n",
    "    ['Yellow', 3, 'Mango'],\n",
    "    ['Red', 1, 'Grape'],\n",
    "    ['Red', 1, 'Cherry'],\n",
    "    ['Red', 1, 'Redish'],\n",
    "    ['Yellow', 1, 'Lemon'],\n",
    "    ['Yellow', 5, 'Banana'],\n",
    "    ['Red', 3, 'Apple'],\n",
    "]"
   ]
  },
  {
   "cell_type": "code",
   "execution_count": 119,
   "metadata": {},
   "outputs": [],
   "source": [
    "# column labels\n",
    "header = ['color', 'diameter', 'label']"
   ]
  },
  {
   "cell_type": "code",
   "execution_count": 120,
   "metadata": {},
   "outputs": [],
   "source": [
    "# Defining a function to get details by unique column\n",
    "def unique_vals(rows, col):\n",
    "    \"\"\" Function to get details by unique column \"\"\"\n",
    "    return set([row[col] for row in rows])\n",
    "\n",
    "##############################\n",
    "#Demo:\n",
    "#unique_vals(training_data, 0)\n",
    "##############################"
   ]
  },
  {
   "cell_type": "code",
   "execution_count": 121,
   "metadata": {},
   "outputs": [],
   "source": [
    "# Defining a function to get class count\n",
    "def class_counts(rows):\n",
    "    counts = {}\n",
    "    \"\"\" Function to get number of counts for each label \"\"\"\n",
    "    for row in rows:\n",
    "        # In our sample dataset, last column is our label\n",
    "        label = row[-1]\n",
    "        if label not in counts:\n",
    "            counts[label] = 1\n",
    "        else:\n",
    "            counts[label] += 1\n",
    "    return counts;\n",
    "\n",
    "##################################\n",
    "#Demo:\n",
    "#class_counts(training_data)\n",
    "##################################"
   ]
  },
  {
   "cell_type": "code",
   "execution_count": 122,
   "metadata": {},
   "outputs": [],
   "source": [
    "# Defining a function to check numerical value\n",
    "def is_numeric(value):\n",
    "    \"\"\" Function to determine whether the value is numeric or not. \"\"\"\n",
    "    return isinstance(value, int) or isinstance(value, float)\n",
    "\n",
    "##############\n",
    "#Demo:\n",
    "#is_numeric(3)\n",
    "##############"
   ]
  },
  {
   "cell_type": "code",
   "execution_count": 123,
   "metadata": {},
   "outputs": [],
   "source": [
    "class Question:\n",
    "    \"\"\" A Question is used to partition a dataset.\n",
    "        This class gets input column number(eg. 0, 1, 2) and column Value(eg. 'Green', 3)\n",
    "        It has match function to get the value from example and compare with the question\n",
    "    \"\"\"\n",
    "    def __init__(self, column, value):\n",
    "        self.column = column\n",
    "        self.value = value\n",
    "    \n",
    "    def match(self, example):\n",
    "        val = example[self.column]\n",
    "        if (is_numeric(val)):\n",
    "            return val >= self.value\n",
    "        else:\n",
    "            return val == self.value\n",
    "        \n",
    "    def __repr__(self):\n",
    "        condition = \"==\"\n",
    "        if is_numeric(self.value):\n",
    "            condition = \">=\"\n",
    "        return \"Is %s %s %s?\" %(header[self.column], condition, str(self.value))"
   ]
  },
  {
   "cell_type": "code",
   "execution_count": 124,
   "metadata": {},
   "outputs": [],
   "source": [
    "### Defining Partition function\n",
    "def partition(rows, question):\n",
    "    \"\"\"for each data in row, checks if the row matches the question.\n",
    "       If so, then add it to true row else false row.\"\"\"\n",
    "    true_rows, false_rows = [], []\n",
    "    for row in rows:\n",
    "        if question.match(row):\n",
    "            true_rows.append(row)\n",
    "        else:\n",
    "            false_rows.append(row)\n",
    "    return true_rows, false_rows"
   ]
  },
  {
   "cell_type": "code",
   "execution_count": 125,
   "metadata": {},
   "outputs": [],
   "source": [
    "### Defining Gini Impurity Function\n",
    "def gini(rows):\n",
    "    \"\"\"Calculate Gini Impurity To list of rows.\"\"\"\n",
    "    counts = class_counts(rows)\n",
    "    impurity = 1\n",
    "    for lbl in counts:\n",
    "        prob_of_lbl = counts[lbl] / float(len(rows))\n",
    "        impurity = impurity - prob_of_lbl ** 2\n",
    "    return impurity"
   ]
  },
  {
   "cell_type": "code",
   "execution_count": 126,
   "metadata": {},
   "outputs": [],
   "source": [
    "### Definining Information Gain Function\n",
    "def information_gain(left, right, current_uncertainity):\n",
    "    \"\"\"Uncertainity of Starting Node - weighted impurity of Child nodes\"\"\"\n",
    "    p = float(len(left))/(float(len(left)) + float(len(right)))\n",
    "    return current_uncertainity - p * gini(left) - (1 - p) * gini(right)"
   ]
  },
  {
   "cell_type": "code",
   "execution_count": 127,
   "metadata": {},
   "outputs": [],
   "source": [
    "### Definining Finding Best split\n",
    "def find_best_split(rows):\n",
    "    \"\"\" Finding the best split by iterating over each features and value \"\"\"\n",
    "    best_gain = 0\n",
    "    best_question = None\n",
    "    current_uncertainity = gini(rows)\n",
    "    n_features = len(rows[0]) - 1\n",
    "    for col in range(n_features):\n",
    "        values = set(row[col] for row in rows)\n",
    "        for val in values:\n",
    "            question = Question(col, val)\n",
    "            true_rows, false_rows = partition(rows, question)\n",
    "            if (len(true_rows) == 0 or len(false_rows) == 0):\n",
    "                continue\n",
    "            gain = information_gain(true_rows, false_rows, current_uncertainity)\n",
    "            \n",
    "            if gain > best_gain:\n",
    "                best_question, best_gain = question, gain\n",
    "    return best_gain, best_question\n",
    "            \n",
    "                \n",
    "            "
   ]
  },
  {
   "cell_type": "code",
   "execution_count": 128,
   "metadata": {},
   "outputs": [],
   "source": [
    "class Leaf:\n",
    "    def __init__(self, rows):\n",
    "        self.predictions = class_counts(rows)"
   ]
  },
  {
   "cell_type": "code",
   "execution_count": 129,
   "metadata": {},
   "outputs": [],
   "source": [
    "class Decision_Node:\n",
    "    def __init__(self, question, true_branch, false_branch):\n",
    "        self.question = question\n",
    "        self.true_branch = true_branch\n",
    "        self.false_branch = false_branch"
   ]
  },
  {
   "cell_type": "code",
   "execution_count": 130,
   "metadata": {},
   "outputs": [],
   "source": [
    "def build_tree(rows):\n",
    "    gain, question = find_best_split(rows)\n",
    "    if gain == 0:\n",
    "        return Leaf(rows)\n",
    "    true_rows, false_rows = partition(rows, question)\n",
    "    true_branch = build_tree(true_rows)\n",
    "    false_branch = build_tree(false_rows)\n",
    "    return Decision_Node(question, true_branch, false_branch)"
   ]
  },
  {
   "cell_type": "code",
   "execution_count": 131,
   "metadata": {},
   "outputs": [],
   "source": [
    "def print_tree(node, spacing=\"\"):\n",
    "    if isinstance(node, Leaf):\n",
    "        print(spacing + \"Predict\" + str(node.predictions))\n",
    "        return\n",
    "    print (spacing + str(node.question))\n",
    "    \n",
    "    print(spacing + '-->True:')\n",
    "    print_tree(node.true_branch, spacing + \"     \")\n",
    "    \n",
    "    print(spacing + '-->False:') \n",
    "    print_tree(node.false_branch, spacing + \"     \")"
   ]
  },
  {
   "cell_type": "code",
   "execution_count": 132,
   "metadata": {},
   "outputs": [],
   "source": [
    "def classify(row, node):\n",
    "    if isinstance(node, Leaf):\n",
    "        return node.predictions\n",
    "    \n",
    "    if node.question.match(row):\n",
    "        return classify(row, node.true_branch)\n",
    "    else:\n",
    "        return classify(row, node.false_branch)"
   ]
  },
  {
   "cell_type": "code",
   "execution_count": 133,
   "metadata": {},
   "outputs": [],
   "source": [
    "def print_leaf(counts):\n",
    "    total = sum(counts.values()) * 1.0\n",
    "    probs = {}\n",
    "    for lbl in counts.keys():\n",
    "        probs[lbl] = str((int(counts[lbl]) / total) * 100) + ' %'\n",
    "    return probs"
   ]
  },
  {
   "cell_type": "code",
   "execution_count": 134,
   "metadata": {},
   "outputs": [
    {
     "name": "stdout",
     "output_type": "stream",
     "text": [
      "Is color == Red?\n",
      "-->True:\n",
      "     Is diameter >= 3?\n",
      "     -->True:\n",
      "          Predict{'Apple': 1}\n",
      "     -->False:\n",
      "          Predict{'Grape': 1, 'Cherry': 1, 'Redish': 1}\n",
      "-->False:\n",
      "     Is diameter >= 3?\n",
      "     -->True:\n",
      "          Is diameter >= 5?\n",
      "          -->True:\n",
      "               Predict{'Banana': 1}\n",
      "          -->False:\n",
      "               Predict{'Mango': 2}\n",
      "     -->False:\n",
      "          Predict{'Lemon': 1}\n",
      "Actual: Mango. Predicted: {'Mango': '100.0 %'} \n",
      "Actual: Mango. Predicted: {'Banana': '100.0 %'} \n",
      "Actual: cherry. Predicted: {'Grape': '33.33333333333333 %', 'Cherry': '33.33333333333333 %', 'Redish': '33.33333333333333 %'} \n",
      "Actual: Grape. Predicted: {'Grape': '33.33333333333333 %', 'Cherry': '33.33333333333333 %', 'Redish': '33.33333333333333 %'} \n",
      "Actual: Lemon. Predicted: {'Lemon': '100.0 %'} \n"
     ]
    }
   ],
   "source": [
    "if __name__ == \"__main__\":    \n",
    "    \n",
    "    my_tree = build_tree(training_data)\n",
    "    \n",
    "    print_tree(my_tree)\n",
    "    \n",
    "    testing_data = [\n",
    "        ['Green', 3, 'Mango'],\n",
    "        ['Yellow', 5, 'Mango'],\n",
    "        ['Red', 1, 'cherry'],\n",
    "        ['Red', 1, 'Grape'],\n",
    "        ['Yellow', 2, 'Lemon']\n",
    "    ]\n",
    "    \n",
    "    for row in testing_data:\n",
    "        print(\"Actual: %s. Predicted: %s \" %(row[-1], print_leaf(classify(row, my_tree))))"
   ]
  },
  {
   "cell_type": "code",
   "execution_count": 113,
   "metadata": {},
   "outputs": [
    {
     "name": "stdout",
     "output_type": "stream",
     "text": [
      "Is color == Red?\n",
      "-->True:\n",
      "     Is diameter >= 3?\n",
      "     -->True:\n",
      "          Predict{'Apple': 1}\n",
      "     -->False:\n",
      "          Predict{'Grape': 2}\n",
      "-->False:\n",
      "     Is diameter >= 3?\n",
      "     -->True:\n",
      "          Is diameter >= 5?\n",
      "          -->True:\n",
      "               Predict{'Banana': 1}\n",
      "          -->False:\n",
      "               Predict{'Mango': 2}\n",
      "     -->False:\n",
      "          Predict{'Lemon': 1}\n"
     ]
    }
   ],
   "source": [
    "my_tree = build_tree(training_data)    \n",
    "print_tree(my_tree)"
   ]
  },
  {
   "cell_type": "code",
   "execution_count": null,
   "metadata": {},
   "outputs": [],
   "source": []
  }
 ],
 "metadata": {
  "kernelspec": {
   "display_name": "Python 3",
   "language": "python",
   "name": "python3"
  },
  "language_info": {
   "codemirror_mode": {
    "name": "ipython",
    "version": 3
   },
   "file_extension": ".py",
   "mimetype": "text/x-python",
   "name": "python",
   "nbconvert_exporter": "python",
   "pygments_lexer": "ipython3",
   "version": "3.8.5"
  }
 },
 "nbformat": 4,
 "nbformat_minor": 4
}
